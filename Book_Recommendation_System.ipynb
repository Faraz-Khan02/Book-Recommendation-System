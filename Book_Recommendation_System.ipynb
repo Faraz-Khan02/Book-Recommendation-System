{
  "nbformat": 4,
  "nbformat_minor": 0,
  "metadata": {
    "colab": {
      "private_outputs": true,
      "provenance": [],
      "collapsed_sections": [
        "vncDsAP0Gaoa",
        "FJNUwmbgGyua",
        "w6K7xa23Elo4",
        "yQaldy8SH6Dl",
        "mDgbUHAGgjLW",
        "O_i_v8NEhb9l",
        "HhfV-JJviCcP",
        "Y3lxredqlCYt",
        "3RnN4peoiCZX",
        "x71ZqKXriCWQ",
        "7hBIi_osiCS2",
        "JlHwYmJAmNHm",
        "35m5QtbWiB9F",
        "PoPl-ycgm1ru",
        "H0kj-8xxnORC",
        "nA9Y7ga8ng1Z",
        "PBTbrJXOngz2",
        "u3PMJOP6ngxN",
        "dauF4eBmngu3",
        "bKJF3rekwFvQ",
        "MSa1f5Uengrz",
        "GF8Ens_Soomf",
        "0wOQAZs5pc--",
        "K5QZ13OEpz2H",
        "lQ7QKXXCp7Bj",
        "448CDAPjqfQr",
        "KSlN3yHqYklG",
        "t6dVpIINYklI",
        "ijmpgYnKYklI",
        "-JiQyfWJYklI",
        "EM7whBJCYoAo",
        "fge-S5ZAYoAp",
        "85gYPyotYoAp",
        "RoGjAbkUYoAp",
        "4Of9eVA-YrdM",
        "iky9q4vBYrdO",
        "F6T5p64dYrdO",
        "y-Ehk30pYrdP",
        "bamQiAODYuh1",
        "QHF8YVU7Yuh3",
        "GwzvFGzlYuh3",
        "qYpmQ266Yuh3",
        "OH-pJp9IphqM",
        "bbFf2-_FphqN",
        "_ouA3fa0phqN",
        "Seke61FWphqN",
        "PIIx-8_IphqN",
        "t27r6nlMphqO",
        "r2jJGEOYphqO",
        "b0JNsNcRphqO",
        "BZR9WyysphqO",
        "jj7wYXLtphqO",
        "eZrbJ2SmphqO",
        "rFu4xreNphqO",
        "YJ55k-q6phqO",
        "gCFgpxoyphqP",
        "OVtJsKN_phqQ",
        "lssrdh5qphqQ",
        "U2RJ9gkRphqQ",
        "1M8mcRywphqQ",
        "tgIPom80phqQ",
        "JMzcOPDDphqR",
        "x-EpHcCOp1ci",
        "X_VqEhTip1ck",
        "8zGJKyg5p1ck",
        "PVzmfK_Ep1ck",
        "n3dbpmDWp1ck",
        "ylSl6qgtp1ck",
        "ZWILFDl5p1ck",
        "M7G43BXep1ck",
        "Ag9LCva-p1cl",
        "E6MkPsBcp1cl",
        "2cELzS2fp1cl",
        "3MPXvC8up1cl",
        "NC_X3p0fY2L0",
        "UV0SzAkaZNRQ",
        "YPEH6qLeZNRQ",
        "q29F0dvdveiT",
        "EXh0U9oCveiU",
        "22aHeOlLveiV",
        "g-ATYxFrGrvw",
        "Yfr_Vlr8HBkt",
        "8yEUt7NnHlrM",
        "tEA2Xm5dHt1r",
        "I79__PHVH19G",
        "Ou-I18pAyIpj",
        "fF3858GYyt-u",
        "4_0_7-oCpUZd",
        "hwyV_J3ipUZe",
        "3yB-zSqbpUZe",
        "dEUvejAfpUZe",
        "Fd15vwWVpUZf",
        "bn_IUdTipZyH",
        "49K5P_iCpZyH",
        "Nff-vKELpZyI",
        "kLW572S8pZyI",
        "dWbDXHzopZyI",
        "yLjJCtPM0KBk",
        "xiyOF9F70UgQ",
        "7wuGOrhz0itI",
        "id1riN9m0vUs",
        "578E2V7j08f6",
        "89xtkJwZ18nB",
        "67NQN5KX2AMe",
        "Iwf50b-R2tYG",
        "GMQiZwjn3iu7",
        "WVIkgGqN3qsr",
        "XkPnILGE3zoT",
        "Hlsf0x5436Go",
        "mT9DMSJo4nBL",
        "c49ITxTc407N",
        "OeJFEK0N496M",
        "9ExmJH0g5HBk",
        "cJNqERVU536h",
        "k5UmGsbsOxih",
        "T0VqWOYE6DLQ",
        "qBMux9mC6MCf",
        "-oLEiFgy-5Pf",
        "C74aWNz2AliB",
        "2DejudWSA-a0",
        "pEMng2IbBLp7",
        "rAdphbQ9Bhjc",
        "TNVZ9zx19K6k",
        "nqoHp30x9hH9",
        "rMDnDkt2B6du",
        "yiiVWRdJDDil",
        "1UUpS68QDMuG",
        "kexQrXU-DjzY",
        "T5CmagL3EC8N",
        "BhH2vgX9EjGr",
        "qjKvONjwE8ra",
        "P1XJ9OREExlT",
        "VFOzZv6IFROw",
        "TIqpNgepFxVj",
        "VfCC591jGiD4",
        "OB4l2ZhMeS1U",
        "ArJBuiUVfxKd",
        "4qY1EAkEfxKe",
        "PiV4Ypx8fxKe",
        "TfvqoZmBfxKf",
        "dJ2tPlVmpsJ0",
        "JWYfwnehpsJ1",
        "-jK_YjpMpsJ2",
        "HAih1iBOpsJ2",
        "zVGeBEFhpsJ2",
        "bmKjuQ-FpsJ3",
        "Fze-IPXLpx6K",
        "7AN1z2sKpx6M",
        "9PIHJqyupx6M",
        "_-qAgymDpx6N",
        "Z-hykwinpx6N",
        "h_CCil-SKHpo",
        "cBFFvTBNJzUa",
        "HvGl1hHyA_VK",
        "EyNgTHvd2WFk",
        "KH5McJBi2d8v",
        "iW_Lq9qf2h6X",
        "-Kee-DAl2viO",
        "gCX9965dhzqZ",
        "gIfDvo9L0UH2"
      ],
      "include_colab_link": true
    },
    "kernelspec": {
      "name": "python3",
      "display_name": "Python 3"
    },
    "language_info": {
      "name": "python"
    }
  },
  "cells": [
    {
      "cell_type": "markdown",
      "metadata": {
        "id": "view-in-github",
        "colab_type": "text"
      },
      "source": [
        "<a href=\"https://colab.research.google.com/github/Faraz-Khan02/Book-Recommendation-System/blob/main/Book_Recommendation_System.ipynb\" target=\"_parent\"><img src=\"https://colab.research.google.com/assets/colab-badge.svg\" alt=\"Open In Colab\"/></a>"
      ]
    },
    {
      "cell_type": "markdown",
      "source": [
        "# **Project Name**    - **Book Recommendation System**\n",
        "\n"
      ],
      "metadata": {
        "id": "vncDsAP0Gaoa"
      }
    },
    {
      "cell_type": "markdown",
      "source": [
        "##### **Project Type**    - Unsupervised\n",
        "##### **Contribution**    - Individual\n",
        "##### **Name**   -     Faraz Faisal Khan\n"
      ],
      "metadata": {
        "id": "beRrZCGUAJYm"
      }
    },
    {
      "cell_type": "markdown",
      "source": [
        "# **Project Summary -**"
      ],
      "metadata": {
        "id": "FJNUwmbgGyua"
      }
    },
    {
      "cell_type": "markdown",
      "source": [
        "Write the summary here within 500-600 words."
      ],
      "metadata": {
        "id": "F6v_1wHtG2nS"
      }
    },
    {
      "cell_type": "markdown",
      "source": [
        "# **GitHub Link -**"
      ],
      "metadata": {
        "id": "w6K7xa23Elo4"
      }
    },
    {
      "cell_type": "markdown",
      "source": [
        "Provide your GitHub Link here."
      ],
      "metadata": {
        "id": "h1o69JH3Eqqn"
      }
    },
    {
      "cell_type": "markdown",
      "source": [
        "# **Problem Statement**\n"
      ],
      "metadata": {
        "id": "yQaldy8SH6Dl"
      }
    },
    {
      "cell_type": "markdown",
      "source": [
        "**During the last few decades, with the rise of Youtube, Amazon, Netflix, and many other such web services, recommender systems have taken more and more place in our lives. From e-commerce (suggest to buyers articles that could interest them) to online advertisement (suggest to users the right contents, matching their preferences), recommender systems are today unavoidable in our daily online journeys.\n",
        "In a very general way, recommender systems are algorithms aimed at suggesting relevant items to users (items being movies to watch, text to read, products to buy, or anything else depending on industries).\n",
        "Recommender systems are really critical in some industries as they can generate a huge amount of income when they are efficient or also be a way to stand out significantly from competitors. The main objective is to create a book recommendation system for users.**"
      ],
      "metadata": {
        "id": "DpeJGUA3kjGy"
      }
    },
    {
      "cell_type": "markdown",
      "source": [
        "# ***Let's Begin !***"
      ],
      "metadata": {
        "id": "O_i_v8NEhb9l"
      }
    },
    {
      "cell_type": "markdown",
      "source": [
        "### Import Libraries"
      ],
      "metadata": {
        "id": "Y3lxredqlCYt"
      }
    },
    {
      "cell_type": "code",
      "source": [
        "# Import Libraries\n",
        "import numpy as np\n",
        "import pandas as pd\n",
        "import matplotlib.pyplot as plt\n",
        "import seaborn as sns\n",
        "import plotly.express as px\n",
        "from sklearn.decomposition import PCA\n",
        "from sklearn.impute import KNNImputer\n",
        "import warnings\n",
        "warnings.filterwarnings(\"ignore\")"
      ],
      "metadata": {
        "id": "M8Vqi-pPk-HR"
      },
      "execution_count": null,
      "outputs": []
    },
    {
      "cell_type": "markdown",
      "source": [
        "### Dataset Loading"
      ],
      "metadata": {
        "id": "3RnN4peoiCZX"
      }
    },
    {
      "cell_type": "code",
      "source": [
        "# Mounting Drive\n",
        "from google.colab import drive\n",
        "drive.mount('/content/drive')"
      ],
      "metadata": {
        "id": "UvekSf7iTDcQ"
      },
      "execution_count": null,
      "outputs": []
    },
    {
      "cell_type": "code",
      "source": [
        "# Load Dataset\n",
        "books = pd.read_csv(\"/content/drive/MyDrive/Capstone Project - 4/Books.csv\")\n",
        "users = pd.read_csv(\"/content/drive/MyDrive/Capstone Project - 4/Users.csv\")\n",
        "ratings = pd.read_csv(\"/content/drive/MyDrive/Capstone Project - 4/Ratings.csv\")"
      ],
      "metadata": {
        "id": "4CkvbW_SlZ_R"
      },
      "execution_count": null,
      "outputs": []
    },
    {
      "cell_type": "markdown",
      "source": [
        "## **Books Data**"
      ],
      "metadata": {
        "id": "Tc2Zhksi8NNj"
      }
    },
    {
      "cell_type": "code",
      "source": [
        "# Books data first look\n",
        "books.head()"
      ],
      "metadata": {
        "id": "_H6NvoKg8WKU"
      },
      "execution_count": null,
      "outputs": []
    },
    {
      "cell_type": "markdown",
      "source": [
        "Here, Books data contains many features which are as follows:\n",
        "\n",
        "\n",
        "*   **ISBN** : It contains ISBN number of the books which mean  International Standard Book Number.\n",
        "*   **Book-Title** : It contains title of the books.\n",
        "\n",
        "\n",
        "*   **Book-Author** : It contains the name of author of that book.\n",
        "*   **Year-Of-Publication** : It contains the year in which that book was published.\n",
        "\n",
        "\n",
        "*   **Publisher** : It contains the name of the publisher.\n",
        "*   **Image-URL-S** : It contains the Image Url of small size.\n",
        "\n",
        "\n",
        "*   **Image-URL-M** : It contains the Image Url of medium size.\n",
        "*   **Image-URL-L** : It contains the Image Url of Large size.\n",
        "\n",
        "\n",
        "\n",
        "\n",
        "\n",
        "\n",
        "\n"
      ],
      "metadata": {
        "id": "cDVJy0Ix9MS9"
      }
    },
    {
      "cell_type": "code",
      "source": [
        "# Shape of Books data\n",
        "books.shape"
      ],
      "metadata": {
        "id": "QSwqpu5S9AJS"
      },
      "execution_count": null,
      "outputs": []
    },
    {
      "cell_type": "markdown",
      "source": [
        "Our, Books dataset contains 271360 rows and 8 columns."
      ],
      "metadata": {
        "id": "SMEBYFgoEOMl"
      }
    },
    {
      "cell_type": "code",
      "source": [
        "# Books dataset info\n",
        "books.info"
      ],
      "metadata": {
        "id": "BhLVghq6Eeew"
      },
      "execution_count": null,
      "outputs": []
    },
    {
      "cell_type": "code",
      "source": [
        "# Books Dataset Duplicate Value Count\n",
        "duplicate = books.duplicated()\n",
        "print(duplicate.value_counts())"
      ],
      "metadata": {
        "id": "O0H1_HWVFo3O"
      },
      "execution_count": null,
      "outputs": []
    },
    {
      "cell_type": "markdown",
      "source": [
        "It means there is no any duplicate values in the books dataset."
      ],
      "metadata": {
        "id": "lde4UEbtIGvu"
      }
    },
    {
      "cell_type": "code",
      "source": [
        "# Missing Values/Null Values Count\n",
        "books.isnull().sum()"
      ],
      "metadata": {
        "id": "MJpm_5EkImX1"
      },
      "execution_count": null,
      "outputs": []
    },
    {
      "cell_type": "markdown",
      "source": [
        "## ***Data Cleaning of Books Dataset***"
      ],
      "metadata": {
        "id": "XJxhqushL302"
      }
    },
    {
      "cell_type": "markdown",
      "source": [
        "Here, Image-URL-S, Image-URL-M, Image-URL-L are not any useful feature for our recommmendation so we will drop it."
      ],
      "metadata": {
        "id": "2OFOZqX7MD8I"
      }
    },
    {
      "cell_type": "code",
      "source": [
        "# dropping last three columns \n",
        "books.drop(['Image-URL-S', 'Image-URL-M', 'Image-URL-L'],axis=1,inplace=True)"
      ],
      "metadata": {
        "id": "jz9tZOnTMknW"
      },
      "execution_count": null,
      "outputs": []
    },
    {
      "cell_type": "code",
      "source": [
        "# After dropping 3 columns\n",
        "books.head()"
      ],
      "metadata": {
        "id": "9nbyC_LQuCpx"
      },
      "execution_count": null,
      "outputs": []
    },
    {
      "cell_type": "code",
      "source": [
        "# Checking data types of columns\n",
        "print(books.dtypes)"
      ],
      "metadata": {
        "id": "2lCOWFxAU4fA"
      },
      "execution_count": null,
      "outputs": []
    },
    {
      "cell_type": "markdown",
      "source": [
        "Here, Year-Of-Publication should have integer datatype but its object so we will check the unique values of it."
      ],
      "metadata": {
        "id": "uWuju04_VJtZ"
      }
    },
    {
      "cell_type": "code",
      "source": [
        "#Get the unique values of Year-Of-Publication\t\n",
        "books['Year-Of-Publication'].unique()"
      ],
      "metadata": {
        "id": "2cnTJPuvVy7f"
      },
      "execution_count": null,
      "outputs": []
    },
    {
      "cell_type": "markdown",
      "source": [
        "Here we can see that 'DK Publishing Inc' and 'Gallimard' are wrong entry and we can see Year of Publication is more than 2004 which is wrong because our data was published in 2004."
      ],
      "metadata": {
        "id": "ekBldGBzZ8Op"
      }
    },
    {
      "cell_type": "code",
      "source": [
        "#Checking the rows having 'DK Publishing Inc' and 'Gallimard' as Year-Of-Publication\n",
        "books.loc[(books['Year-Of-Publication'] == 'DK Publishing Inc') |( books['Year-Of-Publication'] == 'Gallimard'),:]"
      ],
      "metadata": {
        "id": "2C4DZbqflQAN"
      },
      "execution_count": null,
      "outputs": []
    },
    {
      "cell_type": "markdown",
      "source": [
        "Here, we can clearly see that Book-Author and Year-Of-Publication is mismatched so we will replace it correctly."
      ],
      "metadata": {
        "id": "MShu3dD9lseN"
      }
    },
    {
      "cell_type": "code",
      "source": [
        "# Correcting 1st row \n",
        "books.loc[books.ISBN == '0789466953','Year-Of-Publication'] = 2000\n",
        "books.loc[books.ISBN == '0789466953','Book-Author'] = \"James Buckley\"\n",
        "books.loc[books.ISBN == '0789466953','Publisher'] = \"DK Publishing Inc\"\n",
        "books.loc[books.ISBN == '0789466953','Book-Title'] = \"DK Readers: Creating the X-Men, How Comic Books Come to Life (Level 4: Proficient Readers)\""
      ],
      "metadata": {
        "id": "wfBRJTgJnUFI"
      },
      "execution_count": null,
      "outputs": []
    },
    {
      "cell_type": "code",
      "source": [
        "# Correcting 2nd row\n",
        "books.loc[books.ISBN == '2070426769','Year-Of-Publication'] = 2003\n",
        "books.loc[books.ISBN == '2070426769','Book-Author'] = \"Jean-Marie Gustave Le ClÃ?Â©zio\"\n",
        "books.loc[books.ISBN == '2070426769','Publisher'] = \"Gallimard\"\n",
        "books.loc[books.ISBN == '2070426769','Book-Title'] = \"Peuple du ciel, suivi de 'Les Bergers\""
      ],
      "metadata": {
        "id": "DBC0a0R4wDvu"
      },
      "execution_count": null,
      "outputs": []
    },
    {
      "cell_type": "code",
      "source": [
        "# Correcting 3rd row\n",
        "books.loc[books.ISBN == '078946697X','Year-Of-Publication'] = 2000\n",
        "books.loc[books.ISBN == '078946697X','Book-Author'] = \"Michael Teitelbaum\"\n",
        "books.loc[books.ISBN == '078946697X','Publisher'] = \"DK Publishing Inc\"\n",
        "books.loc[books.ISBN == '078946697X','Book-Title'] = \"DK Readers: Creating the X-Men, How It All Began (Level 4: Proficient Readers)\""
      ],
      "metadata": {
        "id": "zi0ggZrQs3QS"
      },
      "execution_count": null,
      "outputs": []
    },
    {
      "cell_type": "code",
      "source": [
        "#Rechecking after correcting\n",
        "books.loc[(books.ISBN == '0789466953') | (books.ISBN == '078946697X') | (books.ISBN == '2070426769'),:]"
      ],
      "metadata": {
        "id": "nO0uY9mswbD9"
      },
      "execution_count": null,
      "outputs": []
    },
    {
      "cell_type": "code",
      "source": [
        "# Converting year of publication to type int\n",
        "books['Year-Of-Publication'] = books['Year-Of-Publication'].astype(int)"
      ],
      "metadata": {
        "id": "TlxC5IUMzDVO"
      },
      "execution_count": null,
      "outputs": []
    },
    {
      "cell_type": "code",
      "source": [
        "# Checking year in sorted manner\n",
        "sorted(books['Year-Of-Publication'].unique())"
      ],
      "metadata": {
        "id": "iRmdd0T9zlgY"
      },
      "execution_count": null,
      "outputs": []
    },
    {
      "cell_type": "markdown",
      "source": [
        "Here, 0 is incorrect and our data was of 2004 and Year-Of-Publication is greater than 2004 which means it is wrongly interpreted.So, we will interpret those values with NaN. "
      ],
      "metadata": {
        "id": "VQuNGVZRz3F1"
      }
    },
    {
      "cell_type": "code",
      "source": [
        "# Removing year 0 and years above 2004 with NaN\n",
        "books.loc[(books['Year-Of-Publication'] > 2004) | (books['Year-Of-Publication']==0),'Year-Of-Publication'] = np.NAN"
      ],
      "metadata": {
        "id": "UH7mEdR5z2am"
      },
      "execution_count": null,
      "outputs": []
    },
    {
      "cell_type": "markdown",
      "source": [
        "## ***Handling Missing Values***"
      ],
      "metadata": {
        "id": "ERdg5Xw64Hyf"
      }
    },
    {
      "cell_type": "code",
      "source": [
        "#Checking for missing values\n",
        "books.isnull().sum()"
      ],
      "metadata": {
        "id": "MU0tG9Mu396C"
      },
      "execution_count": null,
      "outputs": []
    },
    {
      "cell_type": "code",
      "source": [
        "# box plot for Year-Of-Piblication\n",
        "plt.figure(figsize=(8,4))\n",
        "sns.boxplot(books['Year-Of-Publication'])"
      ],
      "metadata": {
        "id": "C5WM-CCpLT8N"
      },
      "execution_count": null,
      "outputs": []
    },
    {
      "cell_type": "markdown",
      "source": [],
      "metadata": {
        "id": "QMrojFFtLoOc"
      }
    },
    {
      "cell_type": "markdown",
      "source": [
        "Here, we can see Book Author contains '1' missing values , Year-Of-Publication contain 4690 missing values and Publisher contains '2' missing values. So, we will handle those missing values."
      ],
      "metadata": {
        "id": "Lweqy4Du4BVs"
      }
    },
    {
      "cell_type": "code",
      "source": [
        "#Imputing the NaN values with medain values of Year-Of-Publication\n",
        "books['Year-Of-Publication'].fillna(round(books['Year-Of-Publication'].median()),inplace=True)"
      ],
      "metadata": {
        "id": "CxlWqObeyUji"
      },
      "execution_count": null,
      "outputs": []
    },
    {
      "cell_type": "code",
      "source": [
        "# Publisher column has 2 NaN so exploring it\n",
        "books.loc[books.Publisher.isnull(),:]"
      ],
      "metadata": {
        "id": "l6xbn84Izv0b"
      },
      "execution_count": null,
      "outputs": []
    },
    {
      "cell_type": "markdown",
      "source": [
        "Here, we can can fill NaN values with others."
      ],
      "metadata": {
        "id": "LeNGfuKz3bJC"
      }
    },
    {
      "cell_type": "code",
      "source": [
        "# Replacing missing values with 'other'\n",
        "books.loc[(books.ISBN == '193169656X'),'Publisher'] = 'other'\n",
        "books.loc[(books.ISBN == '1931696993'),'Publisher'] = 'other'"
      ],
      "metadata": {
        "id": "ItaMzpEe4NTD"
      },
      "execution_count": null,
      "outputs": []
    },
    {
      "cell_type": "markdown",
      "source": [
        "Since, author has only 1 missing value so, we can drop that row easily."
      ],
      "metadata": {
        "id": "AMBVM_ap4eib"
      }
    },
    {
      "cell_type": "code",
      "source": [
        "# Dropping the missing values in 'author' column \n",
        "books.dropna(axis=0,inplace=True)"
      ],
      "metadata": {
        "id": "jW4JbmvH4nEg"
      },
      "execution_count": null,
      "outputs": []
    },
    {
      "cell_type": "code",
      "source": [
        "#Checking for missing values\n",
        "books.isnull().sum()"
      ],
      "metadata": {
        "id": "w1xZWwH_5nxR"
      },
      "execution_count": null,
      "outputs": []
    },
    {
      "cell_type": "markdown",
      "source": [
        "So, here we can clearly see that we dont have any missing values in our Books dataset."
      ],
      "metadata": {
        "id": "1hEesba4550R"
      }
    },
    {
      "cell_type": "markdown",
      "source": [
        "## **Users Data**"
      ],
      "metadata": {
        "id": "V9L1h46a6V0q"
      }
    },
    {
      "cell_type": "code",
      "source": [
        "# Users data first look\n",
        "users.head()"
      ],
      "metadata": {
        "id": "qVOoxt9k6jbc"
      },
      "execution_count": null,
      "outputs": []
    },
    {
      "cell_type": "markdown",
      "source": [
        "Our Users dataset contains following features and they are:\n",
        "\n",
        "\n",
        "*   **User-ID** : It contains the User-Id of different Users.\n",
        "*   **Location** : It contains the location of the Users.\n",
        "\n",
        "*   **Age** : It contains the age of the Users\n",
        "\n",
        "\n",
        "\n",
        "\n"
      ],
      "metadata": {
        "id": "k14ufcZU62S7"
      }
    },
    {
      "cell_type": "code",
      "source": [
        "# Shape of the Users dataset\n",
        "users.shape"
      ],
      "metadata": {
        "id": "XGdYbLkL95QR"
      },
      "execution_count": null,
      "outputs": []
    },
    {
      "cell_type": "markdown",
      "source": [
        "Our data contains 278858 rows and 3 columns."
      ],
      "metadata": {
        "id": "N--uMuGd-JND"
      }
    },
    {
      "cell_type": "code",
      "source": [
        "# Users dataset info\n",
        "users.info"
      ],
      "metadata": {
        "id": "l9mPbjsA-uUY"
      },
      "execution_count": null,
      "outputs": []
    },
    {
      "cell_type": "code",
      "source": [
        "# Users Dataset Duplicate Value Count\n",
        "duplicate = users.duplicated()\n",
        "print(duplicate.value_counts())"
      ],
      "metadata": {
        "id": "zWjQ6-LxALDq"
      },
      "execution_count": null,
      "outputs": []
    },
    {
      "cell_type": "markdown",
      "source": [
        "so, here there is no any duplicate value in our dataset."
      ],
      "metadata": {
        "id": "6RopaYU8ATiH"
      }
    },
    {
      "cell_type": "code",
      "source": [
        "# Missing Values/Null Values Count\n",
        "users.isnull().sum()"
      ],
      "metadata": {
        "id": "HOhLy0U4AyOD"
      },
      "execution_count": null,
      "outputs": []
    },
    {
      "cell_type": "markdown",
      "source": [
        "Age has 110762 missing values which is a great number."
      ],
      "metadata": {
        "id": "RgTCVV_2BBB7"
      }
    },
    {
      "cell_type": "markdown",
      "source": [
        "## ***Data Cleaning of Users Data***"
      ],
      "metadata": {
        "id": "BAJwryx7BOG4"
      }
    },
    {
      "cell_type": "code",
      "source": [
        "# box plot for Age\n",
        "plt.figure(figsize=(8,4))\n",
        "sns.boxplot(users['Age'])"
      ],
      "metadata": {
        "id": "ZifVvHAHFb_c"
      },
      "execution_count": null,
      "outputs": []
    },
    {
      "cell_type": "markdown",
      "source": [
        "Here, we can clearly see Age column contains lot of outliers."
      ],
      "metadata": {
        "id": "x-mxVOuoGJhr"
      }
    },
    {
      "cell_type": "code",
      "source": [
        "# Getting unique age values in sorted manner\n",
        "print(sorted(users.Age.unique()))"
      ],
      "metadata": {
        "id": "2Zce9tgnDtxs"
      },
      "execution_count": null,
      "outputs": []
    },
    {
      "cell_type": "markdown",
      "source": [
        "Here, Age contains NaN values, 0 to 5 years and age greater than 90 no any user would be there who would read books. so will remove age less than 5 and age greater than 90 with NaN."
      ],
      "metadata": {
        "id": "CCRSJyQ-EDOA"
      }
    },
    {
      "cell_type": "code",
      "source": [
        "# Replacing age below 5 and above 90 by NaN\n",
        "users.loc[(users.Age > 90) | (users.Age < 5), 'Age'] = np.nan"
      ],
      "metadata": {
        "id": "--5_cq4lHhwo"
      },
      "execution_count": null,
      "outputs": []
    },
    {
      "cell_type": "code",
      "source": [
        "#Checking for missing values\n",
        "users.isnull().sum()"
      ],
      "metadata": {
        "id": "wcZSynYkHxoC"
      },
      "execution_count": null,
      "outputs": []
    },
    {
      "cell_type": "markdown",
      "source": [
        "So, here we will impute the missing values with mean."
      ],
      "metadata": {
        "id": "n0XIGfaiH7sU"
      }
    },
    {
      "cell_type": "code",
      "source": [
        "# Replacing NaN with mean\n",
        "users['Age'].fillna((users['Age'].mean()), inplace=True)"
      ],
      "metadata": {
        "id": "HZXXjLxhIgJi"
      },
      "execution_count": null,
      "outputs": []
    },
    {
      "cell_type": "code",
      "source": [
        "users.head()"
      ],
      "metadata": {
        "id": "g-5KN5sdKRO4"
      },
      "execution_count": null,
      "outputs": []
    },
    {
      "cell_type": "markdown",
      "source": [
        "So, here we will change the data type of Age to int."
      ],
      "metadata": {
        "id": "3PS-vvnUKexE"
      }
    },
    {
      "cell_type": "code",
      "source": [
        "# setting the data type as int\n",
        "users.Age = users.Age.astype(np.int64)"
      ],
      "metadata": {
        "id": "yDq7nLhdKn-L"
      },
      "execution_count": null,
      "outputs": []
    },
    {
      "cell_type": "code",
      "source": [
        "#Checking for missing values\n",
        "books.isnull().sum()"
      ],
      "metadata": {
        "id": "qkE_2qdiK3Qu"
      },
      "execution_count": null,
      "outputs": []
    },
    {
      "cell_type": "markdown",
      "source": [
        "So, we have cleaned our Users Dataset."
      ],
      "metadata": {
        "id": "srnFyworK5bh"
      }
    },
    {
      "cell_type": "markdown",
      "source": [
        "## **Ratings Data**"
      ],
      "metadata": {
        "id": "g-T4-4ELYese"
      }
    },
    {
      "cell_type": "code",
      "source": [
        "#Ratings Data first look\n",
        "ratings.head()"
      ],
      "metadata": {
        "id": "xaQXYs28Z59j"
      },
      "execution_count": null,
      "outputs": []
    },
    {
      "cell_type": "markdown",
      "source": [
        "Out Ratings Dataset contains following features:\n",
        "\n",
        "\n",
        "*   **User-ID** : It contains the User-Id of different users.\n",
        "*   **ISBN** : It contains ISBN number of the books which mean International Standard Book Number.\n",
        "\n",
        "*   **Book-Rating** : It contains the rating of the book given by different users. \n",
        "\n"
      ],
      "metadata": {
        "id": "Lk12TeY2agBm"
      }
    },
    {
      "cell_type": "code",
      "source": [
        "#Shape of the Ratings Dataset\n",
        "ratings.shape"
      ],
      "metadata": {
        "id": "SRvq8g97cByl"
      },
      "execution_count": null,
      "outputs": []
    },
    {
      "cell_type": "code",
      "source": [
        "# Ratings dataset info\n",
        "ratings.info"
      ],
      "metadata": {
        "id": "MS7THkJsckDa"
      },
      "execution_count": null,
      "outputs": []
    },
    {
      "cell_type": "markdown",
      "source": [
        "Our dataset contains 1149780 rows and 3 columns."
      ],
      "metadata": {
        "id": "QER9XRFxcQvi"
      }
    },
    {
      "cell_type": "code",
      "source": [
        "# Ratings Dataset Duplicate Value Count\n",
        "duplicate = ratings.duplicated()\n",
        "print(duplicate.value_counts())"
      ],
      "metadata": {
        "id": "FAk9yb3Bc6qx"
      },
      "execution_count": null,
      "outputs": []
    },
    {
      "cell_type": "markdown",
      "source": [
        "so, there are no any duplicate value present in our dataset."
      ],
      "metadata": {
        "id": "0a4SArDEdEKf"
      }
    },
    {
      "cell_type": "code",
      "source": [
        "# Missing Values/Null Values Count\n",
        "ratings.isnull().sum()"
      ],
      "metadata": {
        "id": "5lWlrux9ddGZ"
      },
      "execution_count": null,
      "outputs": []
    },
    {
      "cell_type": "markdown",
      "source": [
        "So, here we can clearly see there is no any missing value in ratings. But ratings data contain many ISBN so, we will check it from books dataset."
      ],
      "metadata": {
        "id": "J7AOY8tAdxtj"
      }
    },
    {
      "cell_type": "code",
      "source": [
        "# we are agregating only unique ISBN from ratings which is in books dataset\n",
        "unique_ratings = ratings[ratings.ISBN.isin(books.ISBN)]"
      ],
      "metadata": {
        "id": "aWGRjdNfJ1Xj"
      },
      "execution_count": null,
      "outputs": []
    },
    {
      "cell_type": "markdown",
      "source": [
        "Ratings dataset should have ratings from users which exist in users dataset, unless new users or book are added to users dataset."
      ],
      "metadata": {
        "id": "l267C77bMBLz"
      }
    },
    {
      "cell_type": "markdown",
      "source": [
        "# **Exploratory Data Analysis**"
      ],
      "metadata": {
        "id": "Rffw1_q0MTz3"
      }
    },
    {
      "cell_type": "markdown",
      "source": [
        "## ***EDA on Books Data***"
      ],
      "metadata": {
        "id": "435wlY3_50RE"
      }
    },
    {
      "cell_type": "markdown",
      "source": [
        "## Top 10 Authors"
      ],
      "metadata": {
        "id": "raYIu7mQ69Bt"
      }
    },
    {
      "cell_type": "code",
      "source": [
        "# Visualizing top 10 authors\n",
        "plt.figure(figsize=(12,8))\n",
        "sns.countplot(y='Book-Author',data=books,order=pd.value_counts(books['Book-Author']).iloc[:10].index)\n",
        "plt.title('Top 10 Authors')"
      ],
      "metadata": {
        "id": "s_Z9eiqC6vX4"
      },
      "execution_count": null,
      "outputs": []
    },
    {
      "cell_type": "markdown",
      "source": [
        "From our Countplot we can infer that **Agatha Christie**, **William Shakespeare**, **Stephen King**, **Ann M Martin**, **Carolyn Keene**, **Francine Pascal**, **Isaac Asimov**, **Nora Roberts**, **Barbara Cartiand** and **Charles Dickens** are the top Authors."
      ],
      "metadata": {
        "id": "NQra0Kuk8QNI"
      }
    },
    {
      "cell_type": "markdown",
      "source": [
        "## Top 10 Publishers"
      ],
      "metadata": {
        "id": "vf6AeGrj982c"
      }
    },
    {
      "cell_type": "code",
      "source": [
        "# Visualizing top 10 Publisher\n",
        "plt.figure(figsize=(12,8))\n",
        "sns.countplot(y='Publisher',data=books,order=pd.value_counts(books['Publisher']).iloc[:10].index)\n",
        "plt.title('Top 10 Publishers')"
      ],
      "metadata": {
        "id": "LSoyTm91-GHG"
      },
      "execution_count": null,
      "outputs": []
    },
    {
      "cell_type": "markdown",
      "source": [
        "From our countplot we infer that **Harlequin**, **Silhouette**, **Pocket**, **Ballantine Books**, **Bantam Books**, **Scholastic**, **Simon &amp Schuster**, **Penguin Books**, **Berkley Publishing Group** and **Warner Books** are the top 10 publishers."
      ],
      "metadata": {
        "id": "03789Djq-vzv"
      }
    },
    {
      "cell_type": "markdown",
      "source": [
        "## Books Published in that Year"
      ],
      "metadata": {
        "id": "EGjtj7N1EfdR"
      }
    },
    {
      "cell_type": "code",
      "source": [
        "# Visualizing the no. of books published each year through histogram\n",
        "sns.set_style('darkgrid')\n",
        "fig, ax =plt.subplots()\n",
        "fig.set_size_inches(12,8)\n",
        "sns.histplot(books['Year-Of-Publication'],bins=np.arange(1900,2004,3),color='r')\n",
        "plt.ylabel('No. of Books Published')\n",
        "plt.xlabel('Year')\n",
        "plt.title('Visualizing the total no. of books published each year')\n",
        "plt.show()"
      ],
      "metadata": {
        "id": "ZW_Zp7fnDejm"
      },
      "execution_count": null,
      "outputs": []
    },
    {
      "cell_type": "markdown",
      "source": [
        "From our visualization we can say that in 2000 most no. of books was Published."
      ],
      "metadata": {
        "id": "yrvPYl19Evfu"
      }
    },
    {
      "cell_type": "markdown",
      "source": [
        "## ***EDA on Users Data***"
      ],
      "metadata": {
        "id": "1DnFq_j5FMcd"
      }
    },
    {
      "cell_type": "code",
      "source": [
        "#Plotting histogram of age distribution\n",
        "fig = plt.figure(figsize = (12,8))\n",
        "users.Age.hist(bins=[0, 10, 20, 30, 40, 50, 60, 70, 80, 90, 100])\n",
        "plt.title('Age Distribution\\n')\n",
        "plt.xlabel('Age')\n",
        "plt.ylabel('count')\n",
        "plt.show()"
      ],
      "metadata": {
        "id": "0OLXP__LMoU9"
      },
      "execution_count": null,
      "outputs": []
    },
    {
      "cell_type": "markdown",
      "source": [
        "From our histogram plotting we can see that mpst of the Users are from 30 - 40."
      ],
      "metadata": {
        "id": "WBN81GhDNRj-"
      }
    },
    {
      "cell_type": "code",
      "source": [
        "#Plotting pie chart for above graph\n",
        "fig = plt.figure(figsize = (12,12))\n",
        "users.Age.value_counts().plot.pie(autopct='%1.1f%%',shadow=True)\n",
        "plt.title('Age of Users')\n",
        "\n"
      ],
      "metadata": {
        "id": "8DjcVkGMNysE"
      },
      "execution_count": null,
      "outputs": []
    },
    {
      "cell_type": "markdown",
      "source": [
        "From this we can clearly see 41.9% of users are age 34 this is becuase we have imputed mean value in it."
      ],
      "metadata": {
        "id": "h5Ls-vaJOqhJ"
      }
    },
    {
      "cell_type": "code",
      "source": [
        "# Plotting count of rating to see how it's distributed\n",
        "fig = plt.figure(figsize = (12,8))\n",
        "sns.countplot(x='Book-Rating',data=ratings)\n",
        "plt.title(\"Rating countplot\")"
      ],
      "metadata": {
        "id": "dQJ0kF7jKC4G"
      },
      "execution_count": null,
      "outputs": []
    },
    {
      "cell_type": "markdown",
      "source": [],
      "metadata": {
        "id": "j5n1aOPeMNdh"
      }
    },
    {
      "cell_type": "code",
      "source": [],
      "metadata": {
        "id": "n-1GYSfeKClZ"
      },
      "execution_count": null,
      "outputs": []
    },
    {
      "cell_type": "markdown",
      "source": [
        "**Conclusion**"
      ],
      "metadata": {
        "id": "gCX9965dhzqZ"
      }
    },
    {
      "cell_type": "markdown",
      "source": [
        "Write the conclusion here."
      ],
      "metadata": {
        "id": "Fjb1IsQkh3yE"
      }
    },
    {
      "cell_type": "markdown",
      "source": [
        "### ***Hurrah! You have successfully completed your Machine Learning Capstone Project !!!***"
      ],
      "metadata": {
        "id": "gIfDvo9L0UH2"
      }
    }
  ]
}